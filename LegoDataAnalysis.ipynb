{
  "nbformat": 4,
  "nbformat_minor": 0,
  "metadata": {
    "colab": {
      "provenance": [],
      "mount_file_id": "1yQzaa9BrMzRr00RovqugAlSELh3w4pNS",
      "authorship_tag": "ABX9TyM6Rixvy36H+XjyH7r4EGYw",
      "include_colab_link": true
    },
    "kernelspec": {
      "name": "python3",
      "display_name": "Python 3"
    },
    "language_info": {
      "name": "python"
    }
  },
  "cells": [
    {
      "cell_type": "markdown",
      "metadata": {
        "id": "view-in-github",
        "colab_type": "text"
      },
      "source": [
        "<a href=\"https://colab.research.google.com/github/Ayushmi-Adh/LegoDataAnalysis/blob/main/LegoDataAnalysis.ipynb\" target=\"_parent\"><img src=\"https://colab.research.google.com/assets/colab-badge.svg\" alt=\"Open In Colab\"/></a>"
      ]
    },
    {
      "cell_type": "code",
      "source": [
        "from google.colab import drive\n",
        "drive.mount('/content/drive')"
      ],
      "metadata": {
        "id": "jRDX34L9-q9K",
        "colab": {
          "base_uri": "https://localhost:8080/"
        },
        "outputId": "03df0713-1226-4562-944d-4e676668cf76"
      },
      "execution_count": null,
      "outputs": [
        {
          "output_type": "stream",
          "name": "stdout",
          "text": [
            "Drive already mounted at /content/drive; to attempt to forcibly remount, call drive.mount(\"/content/drive\", force_remount=True).\n"
          ]
        }
      ]
    },
    {
      "cell_type": "code",
      "source": [
        "import pandas as pd\n",
        "\n",
        "df = pd.read_csv(\"/content/drive/MyDrive/Colab Notebooks/lego_sets.csv\")\n",
        "\n",
        "theme =pd.read_csv(\"/content/drive/MyDrive/Colab Notebooks/parent_themes.csv\")\n",
        "df.head()\n"
      ],
      "metadata": {
        "id": "VgIRRFd8DBMs"
      },
      "execution_count": null,
      "outputs": []
    },
    {
      "cell_type": "code",
      "source": [
        "merged = df.merge(theme, left_on='parent_theme', right_on='name')\n",
        "merged.drop(columns='name_y', inplace=True)\n",
        "merged.head()"
      ],
      "metadata": {
        "id": "nHskvhyhD2Hn"
      },
      "execution_count": null,
      "outputs": []
    },
    {
      "cell_type": "code",
      "source": [
        "merged[merged['set_num'].isnull()]"
      ],
      "metadata": {
        "id": "Ncer_BnQWqO6"
      },
      "execution_count": null,
      "outputs": []
    },
    {
      "cell_type": "code",
      "source": [
        "licensed = merged[merged['is_licensed']]\n",
        "licensed = licensed.dropna(subset=['set_num'])\n",
        "star_wars = licensed[licensed['parent_theme']=='Star Wars']\n",
        "\n",
        "the_force = int((star_wars.shape[0]/licensed.shape[0])*100)\n",
        "the_force"
      ],
      "metadata": {
        "id": "NYiX4UZ8UYLr"
      },
      "execution_count": null,
      "outputs": []
    },
    {
      "cell_type": "code",
      "source": [
        "sorted = licensed.sort_values('year')\n",
        "\n",
        "sorted.groupby"
      ],
      "metadata": {
        "id": "9CEKC4bXhRYU"
      },
      "execution_count": null,
      "outputs": []
    }
  ]
}